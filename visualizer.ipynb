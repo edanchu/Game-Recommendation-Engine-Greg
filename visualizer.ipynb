{
 "cells": [
  {
   "cell_type": "code",
   "execution_count": 1,
   "metadata": {},
   "outputs": [
    {
     "name": "stderr",
     "output_type": "stream",
     "text": [
      "c:\\Users\\Elias\\AppData\\Local\\Programs\\Python\\Python310\\lib\\site-packages\\tqdm\\auto.py:21: TqdmWarning: IProgress not found. Please update jupyter and ipywidgets. See https://ipywidgets.readthedocs.io/en/stable/user_install.html\n",
      "  from .autonotebook import tqdm as notebook_tqdm\n"
     ]
    }
   ],
   "source": [
    "import pandas as pd\n",
    "import Recommender as r\n",
    "import knn\n",
    "import numpy as np\n",
    "from sklearn.metrics.pairwise import cosine_similarity\n"
   ]
  },
  {
   "cell_type": "code",
   "execution_count": 2,
   "metadata": {},
   "outputs": [
    {
     "name": "stdout",
     "output_type": "stream",
     "text": [
      "[730.0, 17080.0, 113400.0, 200210.0, 209870.0, 218230.0, 224260.0, 238960.0, 248570.0, 265630.0, 273350.0, 282900.0, 285580.0, 301520.0, 304050.0, 333600.0, 351710.0, 353270.0, 383080.0, 385770.0, 385800.0, 442080.0, 1083500.0]\n"
     ]
    }
   ],
   "source": [
    "#uid  = 76561198199414039\n",
    "u = 76561198199414039\n",
    "\n",
    "userInteractionsSparse = pd.read_pickle(\"Data\\\\userinteractionsSparse.pkl\")\n",
    "gameFeatureMatrix = pd.read_pickle(\"Data\\\\gameFeatureMatrix.pkl\")\n",
    "games_owned = userInteractionsSparse[userInteractionsSparse[\"user\"] == u][\"appid\"].sort_values()\n",
    "id_list = []\n",
    "\n",
    "for game_id in games_owned:\n",
    "    id_list.append(game_id)\n",
    "\n",
    "g = pd.DataFrame(gameFeatureMatrix, index=id_list)\n",
    "column_totals = g.sum(axis=0)\n",
    "totals_row = pd.DataFrame([column_totals.values], columns=g.columns)\n",
    "\n",
    "print(id_list)"
   ]
  },
  {
   "cell_type": "code",
   "execution_count": 3,
   "metadata": {},
   "outputs": [],
   "source": [
    "def calc_sim_2(recs, id_list):\n",
    "        g = pd.DataFrame(gameFeatureMatrix, index=id_list)\n",
    "        #column_totals = g.sum(axis=0)\n",
    "        #totals_row = pd.DataFrame([column_totals.values], columns=g.columns)\n",
    "        #fin = 0\n",
    "\n",
    "        recommendations = pd.DataFrame(gameFeatureMatrix, index = recs)\n",
    "        fin = 0\n",
    "        for i in range(recommendations.shape[0]):\n",
    "                best = 0\n",
    "                first = recommendations.iloc[i]\n",
    "                for j in range(g.shape[0]):\n",
    "                        second = g.iloc[j]\n",
    "                        try:\n",
    "                                cosine_sim = cosine_similarity(first.values.reshape(1, -1), second.values.reshape(1, -1))\n",
    "                                if(best < cosine_sim):\n",
    "                                        best = cosine_sim\n",
    "                        except:\n",
    "                                pass\n",
    "                fin += best\n",
    "                    \n",
    "        \n",
    "        try:\n",
    "                res = float(fin/recommendations.shape[0])\n",
    "        except:\n",
    "                res = 0\n",
    "        return(res)"
   ]
  },
  {
   "cell_type": "code",
   "execution_count": 5,
   "metadata": {},
   "outputs": [],
   "source": [
    "import implicit\n",
    "import scipy\n",
    "\n",
    "userInteractionsDense = pd.read_pickle(\"Data/userInteractionsDense.pkl\")\n",
    "ui = userInteractionsDense.copy()\n",
    "\n",
    "results3 = {}\n",
    "\n",
    "#loc2appid = dict(zip(range(len(ui.columns.tolist())), ui.columns.tolist()))\n",
    "#dict from users to loc in model\n",
    "\n",
    "uid2loc = dict(zip(ui.index.tolist(), range(len(ui.index.tolist()))))\n",
    "loc2appid = dict(zip(range(len(ui.columns.tolist())), ui.columns.tolist()))\n",
    "sdf = ui.astype(pd.SparseDtype(\"float\", 0))\n",
    "ssdf = scipy.sparse.csr_matrix(sdf.sparse.to_coo())\n",
    "model = implicit.bpr.BayesianPersonalizedRanking()\n",
    "model.fit(ssdf, show_progress=False)\n",
    "numRecs = 30\n"
   ]
  },
  {
   "cell_type": "code",
   "execution_count": 6,
   "metadata": {},
   "outputs": [
    {
     "name": "stdout",
     "output_type": "stream",
     "text": [
      "{76561198000085089: 0.5948913418181659}\n"
     ]
    }
   ],
   "source": [
    "import random\n",
    "\n",
    "for k in range(200):\n",
    "        #uid = userInteractionsSparse['user'].sample().values[0]\n",
    "        uid_list = userInteractionsDense.index.tolist()\n",
    "        uid = uid_list[random.randint(0,len(uid_list))]\n",
    "        uid = int(uid)\n",
    "        games_owned = userInteractionsSparse[userInteractionsSparse[\"user\"] == uid][\"appid\"].sort_values()\n",
    "        id_list = []\n",
    "\n",
    "        for game_id in games_owned:\n",
    "                id_list.append(game_id)\n",
    "\n",
    "        uid2loc[uid]\n",
    "        apLocs, scores = model.recommend(uid2loc[uid], ssdf[uid2loc[uid]], numRecs, filter_already_liked_items=True)\n",
    "        appids = [loc2appid[apLoc] for apLoc in apLocs]\n",
    "        \n",
    "        #appids = []\n",
    "        #for i in range(30):\n",
    "        #        appids.append(gameFeatureMatrix.sample().index[0])\n",
    "\n",
    "        #print(appids)\n",
    "        #print(id_list)\n",
    "        results3.update({uid: calc_sim_2(appids, id_list)})\n",
    "\n",
    "print(results3)"
   ]
  },
  {
   "cell_type": "code",
   "execution_count": 15,
   "metadata": {},
   "outputs": [
    {
     "name": "stdout",
     "output_type": "stream",
     "text": [
      "197\n",
      "0.5904182846400385\n"
     ]
    },
    {
     "data": {
      "image/png": "[encoded data removed]",
      "text/plain": [
       "<Figure size 640x480 with 1 Axes>"
      ]
     },
     "metadata": {},
     "output_type": "display_data"
    }
   ],
   "source": [
    "import matplotlib.pyplot as plt\n",
    "scores = list(results3.values())\n",
    "total = 0\n",
    "for i in scores:\n",
    "    if(i == 0):\n",
    "        scores.remove(i)\n",
    "    else:\n",
    "        total = total+i\n",
    "\n",
    "total = total / len(scores)\n",
    "ids = list(range(0, len(scores)))\n",
    "print(len(scores))\n",
    "print(total)\n",
    "plt.bar(ids, scores)\n",
    "plt.xlabel(\"ID\")\n",
    "plt.ylabel(\"Score\")\n",
    "plt.title(\"BPR Similarity Scores\")\n",
    "plt.show()"
   ]
  },
  {
   "cell_type": "code",
   "execution_count": 48,
   "metadata": {},
   "outputs": [
    {
     "name": "stdout",
     "output_type": "stream",
     "text": [
      "0.5206214322264372\n",
      "0.48612220587195076\n",
      "0.4630782565261097\n",
      "0.4426601447275814\n",
      "0.5490383787817709\n",
      "0.49748697803259534\n",
      "0.3378277455951536\n",
      "0.43677899824517363\n",
      "0.438653132631155\n",
      "0.5338546261526754\n",
      "0.3234880672794717\n",
      "0.5045085741720144\n",
      "0.5476713032362377\n",
      "0.3881397425936675\n",
      "0.46873802834538847\n",
      "0.47507595334480945\n",
      "0.4484333325822478\n",
      "0.37632127495594336\n",
      "0.40898216974206875\n",
      "0.4463800975909147\n",
      "0.5048984844512308\n",
      "0.45656398091814787\n",
      "0.464187212775366\n",
      "0.49513346754059945\n",
      "0.44024004722345195\n",
      "0.44807257773288117\n",
      "0.3804860923046648\n",
      "0.20879226967586123\n",
      "0.5070506536754268\n",
      "0.32846083852341457\n",
      "0.45663423408522325\n",
      "0.45031640788028565\n",
      "0.5169725035945647\n",
      "0.5205190783237046\n",
      "0.17256171592727354\n",
      "0.5753531738560725\n",
      "0.4526152532815548\n",
      "0.33018255019061293\n",
      "0.39341340160064786\n",
      "0.4654520179126927\n",
      "0.3348226196739746\n",
      "0.5468128999660528\n",
      "0.4791528939340641\n",
      "0.3844151465291377\n",
      "0.47612191168893386\n"
     ]
    }
   ],
   "source": [
    "import random\n",
    "results4 = {}\n",
    "\n",
    "\n",
    "for k in range(200):\n",
    "        #uid = userInteractionsSparse['user'].sample().values[0]\n",
    "        uid_list = userInteractionsDense.index.tolist()\n",
    "        uid = uid_list[random.randint(0,len(uid_list))]\n",
    "        uid = int(uid)\n",
    "        games_owned = userInteractionsSparse[userInteractionsSparse[\"user\"] == uid][\"appid\"].sort_values()\n",
    "        id_list = []\n",
    "\n",
    "        for game_id in games_owned:\n",
    "                id_list.append(game_id)\n",
    "\n",
    "        uid2loc[uid]\n",
    "\n",
    "        appids = []\n",
    "        for i in range(30):\n",
    "                appids.append(gameFeatureMatrix.sample().index[0])\n",
    "\n",
    "        #print(appids)\n",
    "        #print(id_list)\n",
    "        results4.update({uid: calc_sim_2(appids, id_list)})\n",
    "\n",
    "print(results4)\n",
    "\n"
   ]
  },
  {
   "cell_type": "code",
   "execution_count": 14,
   "metadata": {},
   "outputs": [
    {
     "name": "stdout",
     "output_type": "stream",
     "text": [
      "194\n",
      "0.4388526364645089\n"
     ]
    },
    {
     "data": {
      "image/png": "[encoded data removed]",
      "text/plain": [
       "<Figure size 640x480 with 1 Axes>"
      ]
     },
     "metadata": {},
     "output_type": "display_data"
    }
   ],
   "source": [
    "scores = list(results4.values())\n",
    "total = 0\n",
    "for i in scores:\n",
    "    if(i == 0):\n",
    "        scores.remove(i)\n",
    "    else:\n",
    "        total = total+i\n",
    "\n",
    "total = total / len(scores)\n",
    "ids = list(range(0, len(scores)))\n",
    "print(len(scores))\n",
    "print(total)\n",
    "plt.bar(ids, scores)\n",
    "plt.xlabel(\"ID\")\n",
    "plt.ylabel(\"Score\")\n",
    "plt.title(\"Similarity Scores For Random Recommendations\")\n",
    "plt.show()"
   ]
  },
  {
   "cell_type": "code",
   "execution_count": 1,
   "metadata": {},
   "outputs": [],
   "source": [
    "\n",
    "import pickle\n",
    "import pandas as pd\n",
    "import numpy as np\n",
    "from matplotlib import pyplot as plt\n",
    "import sklearn\n",
    "import surprise"
   ]
  },
  {
   "cell_type": "code",
   "execution_count": 2,
   "metadata": {},
   "outputs": [],
   "source": [
    "userInteractionsDense = pd.read_pickle(\"Data\\\\userInteractionsDense.pkl\")\n",
    "gameFeatureMatrix = pd.read_pickle(\"Data\\\\gameFeatureMatrix.pkl\")\n",
    "userInteractionsSparse = pd.read_pickle(\"Data\\\\userinteractionsSparse.pkl\")"
   ]
  },
  {
   "cell_type": "code",
   "execution_count": 3,
   "metadata": {},
   "outputs": [
    {
     "name": "stdout",
     "output_type": "stream",
     "text": [
      "RMSE: 0.7508\n"
     ]
    },
    {
     "data": {
      "text/plain": [
       "0.7507796854679105"
      ]
     },
     "execution_count": 3,
     "metadata": {},
     "output_type": "execute_result"
    }
   ],
   "source": [
    "reader = surprise.Reader(rating_scale=(1,5))\n",
    "data = surprise.Dataset.load_from_df(userInteractionsSparse, reader)\n",
    "train, test = surprise.model_selection.split.train_test_split(data, test_size = 0.2)\n",
    "\n",
    "svd = surprise.SVD()\n",
    "svd.fit(train)\n",
    "pred = svd.test(test)\n",
    "surprise.accuracy.rmse(pred)"
   ]
  },
  {
   "cell_type": "code",
   "execution_count": 46,
   "metadata": {},
   "outputs": [
    {
     "name": "stdout",
     "output_type": "stream",
     "text": [
      "{76561198026310957: 0.511253881984525, 76561198056230765: 0.5463437340868427, 76561198072177636: 0.5809191335431321, 76561198180104678: 0.4603518012158103, 76561199233415721: 0.4464793219511051, 76561198101645813: 0.5236924993951252, 76561197989582533: 0.561871808765663, 76561198266881103: 0.3385761281593523, 76561197990519678: 0.4642202916244652, 76561198329587862: 0.47108978845719707, 76561199060041119: 0.40450183005803914, 76561198078328333: 0.5358573249363465, 76561198998734947: 0.48813417363794387, 76561198164205639: 0.5206696644952775, 76561198391192326: 0.5127411514746082, 76561198871286427: 0.41116384106628795, 76561198858218880: 0.2597974512545344, 76561198195651283: 0.477989910217049, 76561198161597976: 0.532614706501709, 76561198837327515: 0.3835311833561954, 76561198117304912: 0.496290465802958, 76561198055742606: 0.45351410008354426, 76561198355216577: 0.4651894067648326, 76561198305975402: 0.4050561099862818, 76561198352736836: 0.473884151671198, 76561198906342421: 0.4816221460124592, 76561198310915967: 0.4658396400824395, 76561198134781534: 0.48352128109535353, 76561198058637513: 0.3981895367720943, 76561198285429128: 0.4493558605435041, 76561198036148371: 0.2763079646955643, 76561198117678458: 0.3362066038784984, 76561198871361972: 0.3324200054030439, 76561198353385893: 0.5478167554630193, 76561198099919708: 0.3973349489573642, 76561198003491504: 0.5435402406861393, 76561199054567957: 0.45669051070263605, 76561197984876573: 0.5586938245928045, 76561198117574053: 0.5525570183546192, 76561198444376405: 0.4541179230312524, 76561198326566037: 0.44240604120478044, 76561198016001195: 0.3954555667118712, 76561198079082396: 0.5004332944044318, 76561198246293786: 0.3591506090101666, 76561198165197022: 0.4879522019821365, 76561198197435173: 0.34200261528901976, 76561198227350016: 0.3727159148607271, 76561197981952139: 0.4856587134556897, 76561197969876008: 0.5137013825140085, 76561198241113772: 0.48085268509629986, 76561198198422841: 0.4192608335155367, 76561198151072916: 0.5553024156064432, 76561198156980406: 0.5435862132289138, 76561198115910389: 0.46373775330402167, 76561198136952988: 0.4873866381987927, 76561198072212699: 0.41285226470885356, 76561199061362801: 0.27696966767276904, 76561197974590193: 0.48387342608341716, 76561197962090816: 0.414714925116059, 76561198312935684: 0.44004218098304454, 76561198441416653: 0.3595152491315916, 76561199113039771: 0.20453334490166528, 76561198024198014: 0.49577444770266244, 76561198105795976: 0.5817297465880839, 76561197982098503: 0.3477989098801764, 76561198043345569: 0.42719598421358024, 76561198074931455: 0.5387700001043966, 76561197961890732: 0.620701380096228, 76561198198247507: 0.4961593790863103, 76561198065197777: 0.5307944023255552, 76561198145212322: 0.4888002152086627, 76561198243063648: 0.5355073865420209, 76561198199260194: 0.42445234995584313, 76561198051009904: 0.4684530591337786, 76561198166510623: 0.48236515543051384, 76561197994478632: 0.5833001204226217, 76561198798719188: 0.47700318572523126, 76561198170838021: 0.47897451956686543, 76561198119453666: 0.3995071659675792, 76561198124128007: 0.5763531752673025, 76561198126608468: 0.45092816174315825, 76561198016773218: 0.4954952960179327, 76561198176710974: 0.5708104171178932, 76561198041172788: 0.5230980642479844, 76561198421973518: 0.49311176921273653, 76561199157523644: 0.4137823420404067, 76561197967337858: 0.45922523287775785, 76561198242317456: 0.45953438342224945, 76561198352748163: 0.4781609228992566, 76561198127084378: 0.45218202244465616, 76561198189023345: 0.4546713283540295, 76561198140861141: 0.36943350589206664, 76561198285790387: 0.4929072954159528, 76561198145447524: 0.5326654493377971, 76561198260999559: 0.48772070756291475, 76561198064857587: 0.49875411354757176, 76561198019842733: 0.5330806636659733, 76561198324590206: 0.4886913496685281, 76561198074619025: 0.5522170222080266, 76561198044071451: 0.5096943539237097, 76561198336861863: 0.4431410358566467, 76561198279577647: 0.47547055967546614, 76561198126782687: 0.3784205345574076, 76561198321461572: 0.42997106315357525, 76561198204907005: 0.4807950848279701, 76561198187237985: 0.26556404805871436, 76561198260441235: 0.46589409870187837, 76561197960603139: 0.4786911508825937, 76561199173879615: 0.4340779944869343, 76561198878974644: 0.4853479367346887, 76561197997159575: 0.49493209173776115, 76561198016856946: 0.5387934288743277, 76561198189849181: 0.5060547746899406, 76561198069119762: 0.46398868132658605, 76561198071030747: 0.43349105787041764, 76561199053775950: 0.20453334490166528, 76561198878606807: 0.38336030593367787, 76561198985393695: 0.49254090104332365, 76561198385043330: 0.4642289919299066, 76561198297919848: 0.48286124660356217, 76561198165196098: 0.4914250400170837, 76561198018526079: 0.5341639682459304, 76561198024271966: 0.4944610048694656, 76561197997059777: 0.6731529121189499, 76561198246162058: 0.5142043901013339, 76561198295932323: 0.39391098909897043, 76561198157200274: 0.4412792155778776, 76561198176298187: 0.5016042571392788, 76561198438662214: 0.4162712192940166, 76561198099988292: 0.5106279512887352, 76561198311908816: 0.2911618168220654, 76561198969908277: 0.3435935122732256, 76561198448025483: 0.39984036779186, 76561197995566702: 0.4330263695328628, 76561198118986336: 0.5505063907791787, 76561198119248287: 0.4857014863629824, 76561198245658130: 0.45567813624824693, 76561198150021492: 0.4899480905723278, 76561197972243696: 0.6376818189031845, 76561197997217476: 0.5754012113903324, 76561198013034740: 0.65729580982001, 76561198297181820: 0.5153754345772591, 76561198253881287: 0.5210236011676866, 76561198807435249: 0.3571248960011284, 76561198136402685: 0.3539534644834182, 76561198174575523: 0.5009455990089806, 76561198318565706: 0.518886791167617, 76561198043346492: 0.5088919674678857, 76561198159555057: 0.5372291972524245, 76561198057164036: 0.5107799473658096, 76561198195369838: 0.40807060056784206, 76561199031560877: 0.33417657090740566, 76561198367959116: 0.4993819265916637, 76561198066067450: 0.5430461553037209, 76561198985849650: 0.4864441126798944, 76561198037729034: 0.33206263628957705, 76561198337124289: 0.5418096235812643, 76561198287152961: 0.3812069588728866, 76561199082202082: 0.30075226653291803, 76561198183401494: 0.4946932196849286, 76561198107762622: 0.5405790186399684, 76561199024201841: 0.47352015895330235, 76561198992749401: 0.31665479555814896, 76561198035986582: 0.5450376713655672, 76561198266677801: 0.3560470835498963, 76561198453021416: 0.4567924631381254, 76561198044373183: 0.4490671500896584, 76561198123336658: 0.5412333635809056, 76561198118986124: 0.6978683408794961, 76561198393039377: 0.4800009930683676, 76561197986219792: 0.47226584745091915, 76561198128033397: 0.4557488185284851, 76561198103134514: 0.5485810152678401, 76561198005235099: 0.4968428217944439, 76561198175076911: 0.3543725267587105, 76561198133560759: 0.4599859438652921, 76561198817279706: 0.35763470336006714, 76561198127401494: 0.48695703062825607, 76561198257641351: 0.4363619397450022, 76561199061109941: 0.38470300190094175, 76561198177895411: 0.4283888434223718, 76561198019184563: 0.5768077984346915, 76561198262550108: 0.4174451055463931, 76561198407883289: 0.33756067638362197, 76561198018125734: 0.27460545269775877, 76561198188916774: 0.4682236654271698, 76561198891837634: 0.3651169935989707, 76561198426460008: 0.20453334490166528, 76561198030840197: 0.5302108971775747, 76561198996281223: 0.5360293881695417, 76561197979958043: 0.5782620910426121, 76561198003932142: 0.5296788037016202, 76561198041973734: 0.5374730888832069, 76561198366607198: 0.3836513942398227, 76561198020729829: 0.46061035854669785, 76561198223648364: 0.4779999715613359, 76561199014039087: 0.44521756472608115}\n"
     ]
    }
   ],
   "source": [
    "u = userInteractionsDense.index[1082]\n",
    "# preds = np.zeros((svd.trainset.n_items-userInteractionsSparse[userInteractionsSparse[\"user_id\"] == u].count()[\"user_id\"], 2))\n",
    "\n",
    "import random\n",
    "results5 = {}\n",
    "\n",
    "for k in range(200):\n",
    "        #uid = userInteractionsSparse['user'].sample().values[0]\n",
    "        uid_list = userInteractionsDense.index.tolist()\n",
    "        uid = uid_list[random.randint(0,len(uid_list))]\n",
    "        uid = int(uid)\n",
    "        games_owned = userInteractionsSparse[userInteractionsSparse[\"user\"] == uid][\"appid\"].sort_values()\n",
    "        id_list = []\n",
    "\n",
    "        for game_id in games_owned:\n",
    "                id_list.append(game_id)\n",
    "\n",
    "        \n",
    "        preds = np.zeros((svd.trainset.n_items, 2))\n",
    "        i = 0\n",
    "        for item in svd.trainset.all_items():\n",
    "            rid = svd.trainset.to_raw_iid(item)\n",
    "            p = svd.predict(u, rid)\n",
    "            # if (userInteractionsDense.at[u, rid] == 0):\n",
    "            preds[i][1] = svd.predict(u, rid).est\n",
    "            preds[i][0] = rid\n",
    "            i += 1\n",
    "        predsDF = pd.DataFrame(data=preds, index=range(preds.shape[0]), columns=[\"appid\", \"score\"])\n",
    "        temp = predsDF.sort_values(by=\"score\", ascending=False).head(30)\n",
    "        appids = temp['appid'].tolist()\n",
    "        appids = list(map(int, appids))\n",
    "\n",
    "        results5.update({uid: calc_sim_2(appids, id_list)})\n",
    "\n",
    "print(results5)\n"
   ]
  },
  {
   "cell_type": "code",
   "execution_count": 47,
   "metadata": {},
   "outputs": [
    {
     "name": "stdout",
     "output_type": "stream",
     "text": [
      "197\n",
      "0.46280647933372004\n"
     ]
    },
    {
     "data": {
      "image/png": "[encoded data removed]",
      "text/plain": [
       "<Figure size 640x480 with 1 Axes>"
      ]
     },
     "metadata": {},
     "output_type": "display_data"
    }
   ],
   "source": [
    "scores = list(results5.values())\n",
    "total = 0\n",
    "for i in scores:\n",
    "    if(i == 0):\n",
    "        scores.remove(i)\n",
    "    else:\n",
    "        total = total+i\n",
    "\n",
    "total = total / len(scores)\n",
    "ids = list(range(0, len(scores)))\n",
    "print(len(scores))\n",
    "print(total)\n",
    "plt.bar(ids, scores)\n",
    "plt.xlabel(\"ID\")\n",
    "plt.ylabel(\"Score\")\n",
    "plt.title(\"Similarity Scores For Random Recommendations\")\n",
    "plt.show()"
   ]
  }
 ],
 "metadata": {
  "kernelspec": {
   "display_name": "Python 3",
   "language": "python",
   "name": "python3"
  },
  "language_info": {
   "codemirror_mode": {
    "name": "ipython",
    "version": 3
   },
   "file_extension": ".py",
   "mimetype": "text/x-python",
   "name": "python",
   "nbconvert_exporter": "python",
   "pygments_lexer": "ipython3",
   "version": "3.10.0"
  },
  "orig_nbformat": 4
 },
 "nbformat": 4,
 "nbformat_minor": 2
}
