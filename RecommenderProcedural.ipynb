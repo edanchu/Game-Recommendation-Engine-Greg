{
 "cells": [
  {
   "cell_type": "code",
   "execution_count": 29,
   "metadata": {},
   "outputs": [],
   "source": [
    "import pickle\n",
    "import pandas as pd\n",
    "import numpy as np\n",
    "from matplotlib import pyplot as plt\n",
    "import sklearn\n",
    "import surprise"
   ]
  },
  {
   "cell_type": "code",
   "execution_count": 46,
   "metadata": {},
   "outputs": [],
   "source": [
    "userInteractionsDense = pd.read_pickle(\"Data\\\\userInteractionsDense.pkl\")\n",
    "gameFeatureMatrix = pd.read_pickle(\"Data\\\\gameFeatureMatrix.pkl\")\n",
    "userInteractionsSparse = pd.read_pickle(\"Data\\\\userinteractionsSparse.pkl\")"
   ]
  },
  {
   "cell_type": "code",
   "execution_count": 56,
   "metadata": {},
   "outputs": [
    {
     "name": "stdout",
     "output_type": "stream",
     "text": [
      "RMSE: 0.6851\n"
     ]
    },
    {
     "data": {
      "text/plain": [
       "0.6850872530152794"
      ]
     },
     "execution_count": 56,
     "metadata": {},
     "output_type": "execute_result"
    }
   ],
   "source": [
    "reader = surprise.Reader(rating_scale=(1,5))\n",
    "data = surprise.Dataset.load_from_df(userInteractionsSparse, reader)\n",
    "train, test = surprise.model_selection.split.train_test_split(data, test_size = 0.2)\n",
    "\n",
    "svd = surprise.SVD()\n",
    "svd.fit(train)\n",
    "pred = svd.test(test)\n",
    "surprise.accuracy.rmse(pred)"
   ]
  },
  {
   "cell_type": "code",
   "execution_count": 54,
   "metadata": {},
   "outputs": [],
   "source": [
    "u = userInteractionsDense.index[1082]\n",
    "# preds = np.zeros((svd.trainset.n_items-userInteractionsSparse[userInteractionsSparse[\"user_id\"] == u].count()[\"user_id\"], 2))\n",
    "preds = np.zeros((svd.trainset.n_items, 2))\n",
    "i = 0\n",
    "for item in svd.trainset.all_items():\n",
    "    rid = svd.trainset.to_raw_iid(item)\n",
    "    p = svd.predict(u, rid)\n",
    "    # if (userInteractionsDense.at[u, rid] == 0):\n",
    "    preds[i][1] = svd.predict(u, rid).est\n",
    "    preds[i][0] = rid\n",
    "    i += 1\n",
    "predsDF = pd.DataFrame(data=preds, index=range(preds.shape[0]), columns=[\"appid\", \"score\"])"
   ]
  },
  {
   "cell_type": "code",
   "execution_count": 55,
   "metadata": {},
   "outputs": [
    {
     "name": "stdout",
     "output_type": "stream",
     "text": [
      "             user_id    app_id  interaction\n",
      "140892  7.656120e+16  239140.0     4.609342\n",
      "140876  7.656120e+16  534380.0     3.718774\n",
      "140884  7.656120e+16  600120.0     3.105263\n",
      "140890  7.656120e+16  704270.0     3.098072\n",
      "140831  7.656120e+16  218620.0     2.804165\n",
      "...              ...       ...          ...\n",
      "140899  7.656120e+16  873940.0     1.000000\n",
      "140824  7.656120e+16  240320.0     1.000000\n",
      "140819  7.656120e+16    1900.0     1.000000\n",
      "140842  7.656120e+16  291480.0     1.000000\n",
      "140817  7.656120e+16  202970.0     1.000000\n",
      "\n",
      "[117 rows x 3 columns]\n"
     ]
    },
    {
     "data": {
      "text/plain": [
       "Prediction(uid=76561198319601770, iid=239140, r_ui=None, est=1.7357206255908262, details={'was_impossible': False})"
      ]
     },
     "execution_count": 55,
     "metadata": {},
     "output_type": "execute_result"
    }
   ],
   "source": [
    "print(userInteractionsSparse[userInteractionsSparse[\"user_id\"] == u].sort_values(by=\"interaction\", ascending=False))\n",
    "predsDF.sort_values(by=\"score\", ascending=False).head(30)\n",
    "# svd.predict(u, 239140)"
   ]
  }
 ],
 "metadata": {
  "kernelspec": {
   "display_name": "Python 3",
   "language": "python",
   "name": "python3"
  },
  "language_info": {
   "codemirror_mode": {
    "name": "ipython",
    "version": 3
   },
   "file_extension": ".py",
   "mimetype": "text/x-python",
   "name": "python",
   "nbconvert_exporter": "python",
   "pygments_lexer": "ipython3",
   "version": "3.10.8"
  },
  "orig_nbformat": 4
 },
 "nbformat": 4,
 "nbformat_minor": 2
}
